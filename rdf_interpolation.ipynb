{
 "cells": [
  {
   "cell_type": "markdown",
   "metadata": {},
   "source": [
    "# Implement of RBF interplation (For 2D)"
   ]
  },
  {
   "cell_type": "markdown",
   "metadata": {},
   "source": [
    "## Generate test dataset"
   ]
  },
  {
   "cell_type": "code",
   "execution_count": 43,
   "metadata": {},
   "outputs": [],
   "source": [
    "import numpy as np\n",
    "import matplotlib.pyplot as plt\n",
    "import pandas as pd"
   ]
  },
  {
   "cell_type": "markdown",
   "metadata": {},
   "source": [
    "### y = x ^ 2 dataset"
   ]
  },
  {
   "cell_type": "code",
   "execution_count": 44,
   "metadata": {},
   "outputs": [
    {
     "data": {
      "text/plain": [
       "<matplotlib.legend.Legend at 0x21c8cb41630>"
      ]
     },
     "execution_count": 44,
     "metadata": {},
     "output_type": "execute_result"
    },
    {
     "data": {
      "image/png": "[encoded data removed]",
      "text/plain": [
       "<Figure size 432x288 with 1 Axes>"
      ]
     },
     "metadata": {
      "needs_background": "light"
     },
     "output_type": "display_data"
    }
   ],
   "source": [
    "# generate dataset\n",
    "x_array = np.arange(-10, 11, 1)\n",
    "y_array = x_array ** 2\n",
    "\n",
    "# plot dataset\n",
    "plt.figure()\n",
    "plt.scatter(x_array, y_array, label=\"test data\")\n",
    "plt.legend()"
   ]
  },
  {
   "cell_type": "markdown",
   "metadata": {},
   "source": [
    "## Define RBF interpolation class"
   ]
  },
  {
   "cell_type": "code",
   "execution_count": 25,
   "metadata": {},
   "outputs": [],
   "source": [
    "# define RBF Interpolation class\n",
    "class rbfInterpolation():\n",
    "    \n",
    "    #     set input datasets\n",
    "    def __init__(self, x_array, y_array):\n",
    "        self.x_array = x_array\n",
    "        self.y_array = y_array.reshape(-1, 1)\n",
    "        self.phi_matrix = np.zeros((self.x_array.shape[0], self.y_array.shape[0]))\n",
    "        self.weight_matrix = np.zeros((self.x_array.shape[0], self.y_array.shape[0]))\n",
    "\n",
    "    #     define phi function\n",
    "    def phi(self, x, c):\n",
    "        beta = 1\n",
    "        return np.exp(-beta * np.linalg.norm(x - c))\n",
    "    \n",
    "    #     generate phi matrix\n",
    "    def gen_phi_matrix(self):\n",
    "        for row_idx in range(self.x_array.shape[0]):\n",
    "            for column_idx in range(self.y_array.shape[0]):\n",
    "                self.phi_matrix[column_idx, row_idx] = self.phi(self.x_array[row_idx],\n",
    "                                                                self.x_array[column_idx])\n",
    "\n",
    "    #     calculate weight matrix from inverse of phi matrix and y array \n",
    "    def gen_weight_matrix(self):\n",
    "        self.weight_matrix = np.linalg.pinv(self.phi_matrix) @ self.y_array\n",
    "    \n",
    "    #     fit input data\n",
    "    def fit(self):\n",
    "        self.gen_phi_matrix()\n",
    "        self.gen_weight_matrix()\n",
    "    \n",
    "    #     interpolate data form input value\n",
    "    def predict(self, x):\n",
    "        \n",
    "        #         initialize return value\n",
    "        y = 0\n",
    "        \n",
    "        #         summantion of RBF interpolation\n",
    "        for data_idx in range(self.x_array.shape[0]):\n",
    "            y += self.weight_matrix[data_idx] * self.phi(x, self.x_array[data_idx])\n",
    "        \n",
    "        return y"
   ]
  },
  {
   "cell_type": "markdown",
   "metadata": {},
   "source": [
    "## Test RBF Interpolation (y = x ^2)"
   ]
  },
  {
   "cell_type": "markdown",
   "metadata": {},
   "source": [
    "### Generate test dataset"
   ]
  },
  {
   "cell_type": "code",
   "execution_count": 47,
   "metadata": {},
   "outputs": [],
   "source": [
    "x_test_array = np.arange(-9.5, 9.5, 1)\n",
    "y_test_array = np.zeros((x_test_array.shape))"
   ]
  },
  {
   "cell_type": "code",
   "execution_count": 48,
   "metadata": {},
   "outputs": [
    {
     "data": {
      "text/plain": [
       "<matplotlib.legend.Legend at 0x21c8cc5b978>"
      ]
     },
     "execution_count": 48,
     "metadata": {},
     "output_type": "execute_result"
    },
    {
     "data": {
      "image/png": "[encoded data removed]",
      "text/plain": [
       "<Figure size 432x288 with 1 Axes>"
      ]
     },
     "metadata": {
      "needs_background": "light"
     },
     "output_type": "display_data"
    }
   ],
   "source": [
    "rfb_interpolation = rbfInterpolation(x_array, y_array)\n",
    "rfb_interpolation.fit()\n",
    "\n",
    "# interpolate value\n",
    "for x_test_idx in range(x_test_array.shape[0]):\n",
    "    y_test_array[x_test_idx] = rfb_interpolation.predict(x_test_array[x_test_idx])\n",
    "\n",
    "# plot train and interpolated test dataset\n",
    "plt.figure()\n",
    "plt.scatter(x_array, y_array, label=\"Train\", color=\"r\")\n",
    "plt.scatter(x_test_array, y_test_array, label=\"Test\", color=\"b\")\n",
    "plt.legend()"
   ]
  },
  {
   "cell_type": "markdown",
   "metadata": {},
   "source": [
    "## Test RBF Interpolation (visualize head pose estimation) [2]"
   ]
  },
  {
   "cell_type": "markdown",
   "metadata": {},
   "source": [
    "### Generate head pose dataset"
   ]
  },
  {
   "cell_type": "code",
   "execution_count": 49,
   "metadata": {},
   "outputs": [
    {
     "data": {
      "text/plain": [
       "<matplotlib.legend.Legend at 0x21c8ccae198>"
      ]
     },
     "execution_count": 49,
     "metadata": {},
     "output_type": "execute_result"
    },
    {
     "data": {
      "image/png": "[encoded data removed]",
      "text/plain": [
       "<Figure size 432x288 with 1 Axes>"
      ]
     },
     "metadata": {
      "needs_background": "light"
     },
     "output_type": "display_data"
    }
   ],
   "source": [
    "# generate head pose dataset\n",
    "x_head_part_one = np.arange(-2, 3, 1)\n",
    "x_head_part_two = np.arange(-2, 3, 2)\n",
    "x_head = np.hstack([x_head_part_one, x_head_part_two, x_head_part_one])\n",
    "\n",
    "y_head_part_one = np.array([0 for _ in range (5)])\n",
    "y_head_part_two = np.array([1 for _ in range (3)])\n",
    "y_head_part_three = np.array([2 for _ in range (5)])\n",
    "y_head = np.hstack([y_head_part_one, y_head_part_two, y_head_part_three])\n",
    "\n",
    "u_head = (-1 * x_head) / 4\n",
    "v_head = (-1 * y_head) / 4\n",
    "\n",
    "# plot head pose dataset (Vector field show human head pose)\n",
    "plt.figure()\n",
    "plt.scatter(x_head, y_head, color=\"red\", label=\"Train\")\n",
    "plt.quiver(x_head, y_head, u_head, v_head , color='red', angles='xy', scale_units='xy', scale=1.0)\n",
    "plt.legend()"
   ]
  },
  {
   "cell_type": "markdown",
   "metadata": {},
   "source": [
    "### Generate test head pose dataset"
   ]
  },
  {
   "cell_type": "code",
   "execution_count": null,
   "metadata": {},
   "outputs": [],
   "source": [
    "x_head_test = np.array([-1, -0.5, 0.5, 1])\n",
    "y_head_test = np.array([1, 1, 1, 1])\n",
    "u_head_test = np.zeros(x_head_test.shape)\n",
    "v_head_test = np.zeros(y_head_test.shape)"
   ]
  },
  {
   "cell_type": "markdown",
   "metadata": {},
   "source": [
    "### Interpolate (-0.5, 1) and (0.5, 1) head pose data"
   ]
  },
  {
   "cell_type": "code",
   "execution_count": 39,
   "metadata": {},
   "outputs": [
    {
     "data": {
      "text/plain": [
       "<matplotlib.legend.Legend at 0x21c8c9d7c50>"
      ]
     },
     "execution_count": 39,
     "metadata": {},
     "output_type": "execute_result"
    },
    {
     "data": {
      "image/png": "[encoded data removed]",
      "text/plain": [
       "<Figure size 432x288 with 1 Axes>"
      ]
     },
     "metadata": {
      "needs_background": "light"
     },
     "output_type": "display_data"
    }
   ],
   "source": [
    "rfb_interpolation_u = rbfInterpolation(x_head, u_head)\n",
    "rfb_interpolation_v = rbfInterpolation(y_head, v_head)\n",
    "rfb_interpolation_u.fit()\n",
    "rfb_interpolation_v.fit()\n",
    "\n",
    "# interpolate u value from x coordinate\n",
    "for x_test_idx in range(x_head_test.shape[0]):\n",
    "    u_head_test[x_test_idx] = rfb_interpolation_u.predict(x_head_test[x_test_idx])\n",
    "\n",
    "# interpolate v value from y coordinate\n",
    "for y_test_idx in range(y_head_test.shape[0]):\n",
    "    v_head_test[y_test_idx] = rfb_interpolation_v.predict(y_head_test[y_test_idx])\n",
    "\n",
    "# plot head pose dataset (Vector field show human head pose)\n",
    "plt.figure()\n",
    "plt.scatter(x_head, y_head, label=\"Train\", color=\"b\")\n",
    "plt.scatter(x_head_test, y_head_test, label=\"Test\", color=\"r\")\n",
    "plt.quiver(x_head, y_head, u_head, v_head , color='blue', angles='xy', scale_units='xy', scale=1.0)\n",
    "plt.quiver(x_head_test, y_head_test, u_head_test, v_head_test , color='red', angles='xy', scale_units='xy', scale=1.0)\n",
    "plt.legend()"
   ]
  },
  {
   "cell_type": "markdown",
   "metadata": {},
   "source": [
    "# References"
   ]
  },
  {
   "cell_type": "markdown",
   "metadata": {},
   "source": [
    "[1] http://yuki-koyama.hatenablog.com/entry/2014/05/04/132552  \n",
    "[2] https://www.cc.gatech.edu/cpl/projects/playevolution/cvpr2010-pe.pdf"
   ]
  }
 ],
 "metadata": {
  "kernelspec": {
   "display_name": "Python 3",
   "language": "python",
   "name": "python3"
  },
  "language_info": {
   "codemirror_mode": {
    "name": "ipython",
    "version": 3
   },
   "file_extension": ".py",
   "mimetype": "text/x-python",
   "name": "python",
   "nbconvert_exporter": "python",
   "pygments_lexer": "ipython3",
   "version": "3.7.1"
  },
  "toc": {
   "base_numbering": 1,
   "nav_menu": {},
   "number_sections": true,
   "sideBar": true,
   "skip_h1_title": false,
   "title_cell": "Table of Contents",
   "title_sidebar": "Contents",
   "toc_cell": false,
   "toc_position": {},
   "toc_section_display": true,
   "toc_window_display": true
  }
 },
 "nbformat": 4,
 "nbformat_minor": 4
}
